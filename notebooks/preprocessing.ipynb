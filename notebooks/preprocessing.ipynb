{
 "cells": [
  {
   "cell_type": "markdown",
   "metadata": {},
   "source": [
    "## Objectives of Preprocessing\n",
    "    \n",
    "- data should be a 2D array\n",
    "- input data has to be numbers\n",
    "- no nan or inf\n",
    "- columns are scaled to similar ranges (mean=0, variance=1)\n",
    "- columns should not be collinear (cx1!=k*cx2)\n",
    "- rows should not be causally dependent\n",
    "- data should be 100 times larger then the number of columns "
   ]
  },
  {
   "cell_type": "markdown",
   "metadata": {},
   "source": [
    "## Import Python Libraries "
   ]
  },
  {
   "cell_type": "code",
   "execution_count": 7,
   "metadata": {},
   "outputs": [],
   "source": [
    "import shutil\n",
    "import os\n",
    "import pathlib\n",
    "from pprint import pprint\n",
    "from pathlib import Path\n",
    "import csv"
   ]
  },
  {
   "cell_type": "code",
   "execution_count": 9,
   "metadata": {},
   "outputs": [],
   "source": [
    "import rasterio\n",
    "from rasterio.warp import calculate_default_transform, reproject, Resampling\n",
    "\n",
    "import fiona\n",
    "import pandas as pd\n",
    "import xgboost as xgb\n",
    "import numpy as np\n",
    "\n",
    "import matplotlib.pyplot as plt\n",
    "\n",
    "from sklearn.model_selection import train_test_split\n",
    "\n",
    "from sklearn.ensemble import RandomForestClassifier\n",
    "from sklearn.metrics import confusion_matrix\n",
    "from sklearn.metrics import roc_auc_score\n",
    "from sklearn.metrics import accuracy_score\n",
    "from sklearn.metrics import mean_squared_error\n",
    "from sklearn.metrics import mean_absolute_error\n",
    "from sklearn import preprocessing\n",
    "\n",
    "import matplotlib.pyplot as plt"
   ]
  },
  {
   "cell_type": "code",
   "execution_count": 3,
   "metadata": {},
   "outputs": [],
   "source": [
    "%load_ext memory_profiler"
   ]
  },
  {
   "cell_type": "markdown",
   "metadata": {},
   "source": [
    "## Define Input Datasets\n",
    "\n",
    "- features \n",
    "- targets \n",
    "- out of sample \n",
    "- area of interest"
   ]
  },
  {
   "cell_type": "code",
   "execution_count": 4,
   "metadata": {},
   "outputs": [
    {
     "name": "stdout",
     "output_type": "stream",
     "text": [
      "CPU times: user 560 µs, sys: 200 µs, total: 760 µs\n",
      "Wall time: 770 µs\n"
     ]
    }
   ],
   "source": [
    "%%time\n",
    "\n",
    "feature_file_paths = [\n",
    "Path('/g/data/ge3/sheece/LOC_distance_to_coast.tif'),\n",
    "Path('/g/data/ge3/sheece/mrvbf_9.tif'),\n",
    "Path('/g/data/ge3/sheece/relief_mrvbf_3s_mosaic.tif'),\n",
    "Path('/g/data/ge3/sheece/relief_elev_focalrange1000m_3s.tif'),\n",
    "Path('/g/data/ge3/sheece/relief_elev_focalrange300m_3s.tif'),\n",
    "Path('/g/data/ge3/sheece/saga_wetSM_85.tif'),\n",
    "Path('/g/data/ge3/sheece/tpi_300.tif'),\n",
    "Path('/g/data/ge3/sheece/slope_fill2.tif'),\n",
    "Path('/g/data/ge3/sheece/dem_fill.tif'),\n",
    "Path('/g/data/ge3/sheece/3dem_mag2.tif'),\n",
    "Path('/g/data/ge3/sheece/3dem_mag1_fin.tif'),\n",
    "Path('/g/data/ge3/sheece/3dem_mag0.fin.tif'),\n",
    "Path('/g/data/ge3/sheece/relief_roughness.tif'),\n",
    "Path('/g/data/ge3/sheece/LATITUDE_GRID1_clip.tif'),\n",
    "Path('/g/data/ge3/sheece/LATITUDE_GRID1_clip.tif'),\n",
    "Path('/g/data/ge3/sheece/Dose_2016.tif'),\n",
    "Path('/g/data/ge3/sheece/Potassium_2016.tif'),\n",
    "Path('/g/data/ge3/sheece/Thorium_2016.tif'),\n",
    "Path('/g/data/ge3/sheece/Rad2016U_Th.tif'),\n",
    "Path('/g/data/ge3/sheece/Rad2016K_Th.tif'),\n",
    "Path('/g/data/ge3/sheece/national_Wii_RF_multirandomforest_prediction.tif'),\n",
    "Path('/g/data/ge3/sheece/si_geol1.tif'),\n",
    "Path('/g/data/ge3/sheece/ceno_euc_aust1.tif'),\n",
    "Path('/g/data/ge3/sheece/Grav_lane_clip.tif'),\n",
    "Path('/g/data/ge3/sheece/be-30y-85m-avg-ND-NIR-GREEN.filled.lzw.nodata.tif'),\n",
    "Path('/g/data/ge3/sheece/be-30y-85m-avg-ND-RED-BLUE.filled.lzw.nodata.tif'),\n",
    "Path('/g/data/ge3/sheece/be-30y-85m-avg-ND-SWIR1-SWIR2.filled.lzw.nodata.tif'),\n",
    "Path('/g/data/ge3/sheece/be-30y-85m-avg_BLUE+SWIR2.tif'),\n",
    "Path('/g/data/ge3/sheece/be-30y-85m-avg-ND-SWIR1-NIR.filled.lzw.nodata.tif'),\n",
    "Path('/g/data/ge3/sheece/be-30y-85m-avg-CLAY-PC2.filled.lzw.nodata.tif'),\n",
    "Path('/g/data/ge3/sheece/be-30y-85m-avg-ND-RED-BLUE.filled.lzw.nodata.tif'),\n",
    "Path('/g/data/ge3/sheece/be-30y-85m-avg-RED.filled.lzw.nodata.tif'),\n",
    "Path('/g/data/ge3/sheece/be-30y-85m-avg-GREEN.filled.lzw.nodata.tif'),\n",
    "Path('/g/data/ge3/sheece/be-l8-all-85m-avg-BLUE.filled.lzw.nodata.tif'),\n",
    "Path('/g/data/ge3/sheece/be-l8-all-85m-avg-NIR.filled.lzw.nodata.tif'),\n",
    "Path('/g/data/ge3/sheece/be-30y-85m-avg-SWIR1.filled.lzw.nodata.tif'),\n",
    "Path('/g/data/ge3/sheece/be-30y-85m-avg-SWIR2.filled.lzw.nodata.tif'),\n",
    "Path('/g/data/ge3/sheece/s2-dpca-85m.tif'),\n",
    "Path('/g/data/ge3/sheece/water-85m.tif'),\n",
    "Path('/g/data/ge3/sheece/clim_EPA_albers.tif'),\n",
    "Path('/g/data/ge3/sheece/Clim_Prescott_LindaGregory.tif'),\n",
    "Path('/g/data/ge3/sheece/clim_PTA_albers.tif'),\n",
    "Path('/g/data/ge3/sheece/clim_WDA_albers.tif'),\n",
    "Path('/g/data/ge3/sheece/clim_RSM_albers.tif'),\n",
    "Path('/g/data/ge3/sheece/LONGITUDE_GRID1_clip.tif')\n",
    "]\n",
    "\n",
    "#target dataset small\n",
    "# /g/data/ge3/sheece/0_50cm_2021_albers_C_sm_T_resampled_small.shp\n",
    "#target dataset complete\n",
    "# /g/data/ge3/sheece/0_50cm_2021_albers_C_sm_T_resampled.shp\n",
    "target_file_path = Path(\"/g/data/ge3/sheece/0_50cm_2021_albers_C_sm_T_resampled.shp\")\n",
    "\n",
    "# define a shape for area of interest\n",
    "area_of_interest_file_path = None\n",
    "\n",
    "#OOS\n",
    "# /g/data/ge3/sheece/0_50cm_2021_albers_C_oos.shp\n",
    "out_of_sample_file_path = Path(\"/g/data/ge3/sheece/0_50cm_2021_albers_C_oos.shp\")\n",
    "\n",
    "root = Path('/g/data/ge3/sheece')"
   ]
  },
  {
   "cell_type": "code",
   "execution_count": 5,
   "metadata": {},
   "outputs": [
    {
     "name": "stdout",
     "output_type": "stream",
     "text": [
      "Following are duplicates:\n",
      "[PosixPath('/g/data/ge3/sheece/LATITUDE_GRID1_clip.tif'), PosixPath('/g/data/ge3/sheece/be-30y-85m-avg-ND-RED-BLUE.filled.lzw.nodata.tif')]\n"
     ]
    }
   ],
   "source": [
    "# remove any duplicate datasets in input \n",
    "\n",
    "temp_feature_file_paths = feature_file_paths.copy()\n",
    "unique_values = list(set(temp_feature_file_paths))\n",
    "for unique_value in unique_values:\n",
    "    temp_feature_file_paths.remove(unique_value)\n",
    "\n",
    "print(\"Following are duplicates:\")\n",
    "print(temp_feature_file_paths)\n",
    "\n",
    "feature_file_paths = list(set(feature_file_paths))"
   ]
  },
  {
   "cell_type": "code",
   "execution_count": 6,
   "metadata": {},
   "outputs": [],
   "source": [
    "# ensure that that dataset provided in input exist\n",
    "import os.path\n",
    "for feature_file_path in feature_file_paths:\n",
    "    if not os.path.isfile(feature_file_path):\n",
    "        feature_file_paths.remove(feature_file_path)\n",
    "        print (\"File not exist\",feature_file_path)        \n"
   ]
  },
  {
   "cell_type": "markdown",
   "metadata": {},
   "source": [
    "## Standardising Datasets"
   ]
  },
  {
   "cell_type": "code",
   "execution_count": 8,
   "metadata": {},
   "outputs": [
    {
     "name": "stdout",
     "output_type": "stream",
     "text": [
      "Processing dataset:  /g/data/ge3/sheece/s2-dpca-85m.tif\n",
      "Reading data from band:  1\n",
      "New dataset added: /g/data/ge3/sheece/s2-dpca-85m_1.tif\n",
      "Reading data from band:  2\n",
      "New dataset added: /g/data/ge3/sheece/s2-dpca-85m_2.tif\n",
      "Reading data from band:  3\n",
      "New dataset added: /g/data/ge3/sheece/s2-dpca-85m_3.tif\n",
      "Removing multiband dataset: /g/data/ge3/sheece/s2-dpca-85m.tif\n",
      "Processing dataset:  /g/data/ge3/sheece/water-85m.tif\n",
      "Reading data from band:  1\n",
      "New dataset added: /g/data/ge3/sheece/water-85m_1.tif\n",
      "Reading data from band:  2\n",
      "New dataset added: /g/data/ge3/sheece/water-85m_2.tif\n",
      "Reading data from band:  3\n",
      "New dataset added: /g/data/ge3/sheece/water-85m_3.tif\n",
      "Removing multiband dataset: /g/data/ge3/sheece/water-85m.tif\n"
     ]
    }
   ],
   "source": [
    "# check for multiple bands\n",
    "# if a dataset contains more then one band then create a new dataset for each band\n",
    "\n",
    "for feature_file_path in feature_file_paths:\n",
    "    with rasterio.open(feature_file_path) as dataset:\n",
    "        if len(dataset.indexes) >1: \n",
    "            print(\"Processing dataset: \",feature_file_path)\n",
    "            for band in dataset.indexes:\n",
    "                path_to_new_dataset = root/ str(feature_file_path.stem +\"_\"+str(band)+\".tif\")\n",
    "                print(\"Reading data from band: \",band)\n",
    "                new_dataset = rasterio.open(\n",
    "                    path_to_new_dataset,\n",
    "                     'w',\n",
    "                     driver='GTiff',\n",
    "                     height=dataset.shape[0],\n",
    "                     width=dataset.shape[1],\n",
    "                     count=1,\n",
    "                     dtype=dataset.meta['dtype'],\n",
    "                     crs=dataset.crs,\n",
    "                     transform=dataset.transform\n",
    "                )\n",
    "                \n",
    "                new_dataset.write(dataset.read(band),1)\n",
    "                new_dataset.close()\n",
    "                print(\"New dataset added:\",path_to_new_dataset)\n",
    "                feature_file_paths.append(path_to_new_dataset)\n",
    "    \n",
    "            print(\"Removing multiband dataset:\",feature_file_path)\n",
    "            feature_file_paths.remove(feature_file_path)"
   ]
  },
  {
   "cell_type": "code",
   "execution_count": 10,
   "metadata": {},
   "outputs": [
    {
     "name": "stdout",
     "output_type": "stream",
     "text": [
      "Converting dataset: /g/data/ge3/sheece/saga_wetSM_85.tif\n",
      "Dataset:  /g/data/ge3/sheece/saga_wetSM_85.tif  has been reprojected and saved as:  /g/data/ge3/sheece/saga_wetSM_85_reprojected.tif\n"
     ]
    }
   ],
   "source": [
    "# check projection\n",
    "# if a dataset in not in EPSG:3577; reproject it in EPSG:3577 projection\n",
    "\n",
    " \n",
    "crs_epsg3577 = rasterio.crs.CRS.from_string('EPSG:3577')\n",
    "\n",
    "for feature_file_path in feature_file_paths:\n",
    "    with rasterio.open(feature_file_path) as src:\n",
    "        if crs_epsg3577 != src.crs:\n",
    "            print(\"Converting dataset: \"+str(feature_file_path))\n",
    "            transform, width, height = calculate_default_transform(\n",
    "                src.crs, \n",
    "                crs_epsg3577, \n",
    "                src.width, \n",
    "                src.height, \n",
    "                *src.bounds)\n",
    "            kwargs = src.meta.copy()\n",
    "            kwargs.update({'crs': crs_epsg3577,'transform': transform, 'width': width,'height': height})\n",
    "\n",
    "            new_feature_file_path = feature_file_path.parent /str(feature_file_path.stem+\"_reprojected.tif\")\n",
    "            with rasterio.open(new_feature_file_path, 'w', **kwargs) as dst:\n",
    "                reproject(\n",
    "                    source=rasterio.band(src, 1),\n",
    "                    destination=rasterio.band(dst, 1),\n",
    "                    src_transform=src.transform,\n",
    "                    src_crs=src.crs,\n",
    "                    dst_transform=transform,\n",
    "                    dst_crs=crs_epsg3577,\n",
    "                    resampling=Resampling.nearest)\n",
    "            feature_file_paths.remove(feature_file_path)\n",
    "            feature_file_paths.append(new_feature_file_path)\n",
    "            print(\"Dataset: \",feature_file_path, \" has been reprojected and saved as: \",new_feature_file_path)\n"
   ]
  },
  {
   "cell_type": "code",
   "execution_count": 12,
   "metadata": {},
   "outputs": [
    {
     "name": "stdout",
     "output_type": "stream",
     "text": [
      "No are of interest provided.\n"
     ]
    }
   ],
   "source": [
    "# check for area of interest \n",
    "# if a user has provided a smaller area of interest then crop the input datasets accordingly\n",
    "import fiona\n",
    "import rasterio\n",
    "from rasterio.mask import mask\n",
    "\n",
    "if area_of_interest_file_path is not None:\n",
    "    \n",
    "    # apply crop to feature datasets \n",
    "    with fiona.open(area_of_interest_file_path) as shapefile:\n",
    "        geoms = [feature[\"geometry\"] for feature in shapefile]\n",
    "\n",
    "    for feature_file_path in feature_file_paths:\n",
    "        if \"cropped\" not in feature_file_path.name:\n",
    "            print(\"Cropping : \"+feature_file_path.stem)\n",
    "            # load the raster, mask it by the polygon and crop it\n",
    "            with rasterio.open(feature_file_path) as src:\n",
    "                out_image, out_transform = mask(src, geoms, crop=True)\n",
    "            out_meta = src.meta.copy()\n",
    "\n",
    "            # save the resulting raster  \n",
    "            out_meta.update({\n",
    "                    \"driver\": \"GTiff\",\n",
    "                    \"height\": out_image.shape[1],\n",
    "                    \"width\": out_image.shape[2],\n",
    "                    \"transform\": out_transform\n",
    "            })   \n",
    "\n",
    "            with rasterio.open(root/(feature_file_path.stem+'_cropped.tif'), \"w\", **out_meta) as dest:\n",
    "                dest.write(out_image)\n",
    "\n",
    "            shutil.move(feature_file_path, root/(\"old/\"+feature_file_path.name))\n",
    "    \n",
    "    # apply crop to target vector files(.shp)\n",
    "    if \"cropped\" not in target_file_path.name:\n",
    "        print(\"Cropping: \"+target_file_path.name)\n",
    "        clipped_file = root/(target_file_path.stem+'_cropped.shp')\n",
    "        callstr = ['ogr2ogr',\n",
    "                   '-clipsrc',\n",
    "                   area_of_interest_file_path,\n",
    "                   clipped_file,\n",
    "                   target_file_path] \n",
    "        proc = subprocess.Popen(callstr, stdout=subprocess.PIPE,stderr=subprocess.PIPE)\n",
    "        stdout,stderr=proc.communicate()\n",
    "\n",
    "        shutil.move(target_file_path, root/(\"old/\"+target_file_path.name))\n",
    "else:\n",
    "    print(\"No are of interest provided.\")"
   ]
  },
  {
   "cell_type": "code",
   "execution_count": 14,
   "metadata": {},
   "outputs": [
    {
     "name": "stdout",
     "output_type": "stream",
     "text": [
      "Creating csv file ...... \n",
      "Please wait.\n",
      "peak memory: 20418.91 MiB, increment: 18180.06 MiB\n",
      "CPU times: user 22min 7s, sys: 1min 57s, total: 24min 4s\n",
      "Wall time: 32min 14s\n"
     ]
    }
   ],
   "source": [
    "%%time\n",
    "%%memit\n",
    "# create a vector csv file from the input datasets\n",
    "# this csv file will be used by different machine learning algorithms\n",
    "\n",
    "# create iterators to inputs feature dataset and target dataset\n",
    "datasets = []\n",
    "for feature_file_path in feature_file_paths: \n",
    "    datasets.append(rasterio.open(feature_file_path))\n",
    "\n",
    "target_handle = fiona.open(target_file_path)\n",
    "\n",
    "# create the first row containing col names\n",
    "head_row = ['target']\n",
    "for feature_file_path in feature_file_paths:\n",
    "    head_row.append(feature_file_path.stem)\n",
    "head_row.append(\"x\")\n",
    "head_row.append(\"y\")\n",
    "    \n",
    "csv_rowlist = [head_row]\n",
    "\n",
    "if not os.path.isdir(\"../data\"):\n",
    "    os.mkdir(\"../data\") \n",
    "    \n",
    "with open('../data/input_dataset.csv', 'w', newline='', encoding='utf-8') as file:\n",
    "    writer = csv.writer(file)\n",
    "    # iterate through list of targets\n",
    "    print(\"Creating csv file ...... \")\n",
    "    print(\"Please wait.\")\n",
    "    for target in target_handle:\n",
    "        value = target[\"properties\"][\"con\"]\n",
    "        x, y = target[\"geometry\"][\"coordinates\"]\n",
    "        new_row = [value]\n",
    "        \n",
    "        # iterate through list of features\n",
    "        for dataset in datasets:\n",
    "            new_row.append(next(dataset.sample([(x, y)]))[0])\n",
    "        new_row.append(x)\n",
    "        new_row.append(y)\n",
    "        \n",
    "        csv_rowlist.append(new_row)\n",
    "        \n",
    "        # load 1000 rows in memory then write them to csv\n",
    "        # this reduces the I/O operations required and speeds up creating csv file \n",
    "        if len(csv_rowlist)%1000==0:\n",
    "            writer.writerows(csv_rowlist)\n",
    "            csv_rowlist = []\n",
    "\n",
    "print(\"Output file has been created.\")\n",
    "# close iterators\n",
    "target_handle.close()\n",
    "for dataset in datasets: \n",
    "    dataset.close()"
   ]
  },
  {
   "cell_type": "markdown",
   "metadata": {},
   "source": [
    "## Cleaning dataset"
   ]
  },
  {
   "cell_type": "code",
   "execution_count": 15,
   "metadata": {},
   "outputs": [
    {
     "name": "stdout",
     "output_type": "stream",
     "text": [
      "input_file:  ../data/input_dataset.csv\n",
      "Number of rows removed:  1682\n",
      "Number of cols removed:  2\n",
      "CPU times: user 17.5 s, sys: 619 ms, total: 18.2 s\n",
      "Wall time: 19.3 s\n"
     ]
    }
   ],
   "source": [
    "%%time\n",
    "input_file = '../data/input_dataset.csv'\n",
    "print(\"input_file: \",input_file)\n",
    "df = pd.read_csv(input_file)\n",
    "input_shape = df.shape\n",
    "\n",
    "# drop positional arguments \n",
    "df = df.drop([\"x\",\"y\"],axis=1).astype('float32') \n",
    "\n",
    "# drop no data values\n",
    "df = df[~df.isin([np.nan, np.inf, -np.inf,-9999.0]).any(1)]\n",
    "\n",
    "# write updated dataframe to csv file\n",
    "df.to_csv(\"../data/formated_dataset.csv\",index=None,header=df.columns.values)\n",
    "\n",
    "output_shape = df.shape\n",
    "print(\"Number of rows removed: \",input_shape[0]-output_shape[0])\n",
    "print(\"Number of cols removed: \",input_shape[1]-output_shape[1])\n"
   ]
  },
  {
   "cell_type": "markdown",
   "metadata": {},
   "source": [
    "## Save Normalized Dataset"
   ]
  },
  {
   "cell_type": "markdown",
   "metadata": {},
   "source": [
    "#### perform maximum absolute transformation "
   ]
  },
  {
   "cell_type": "code",
   "execution_count": 18,
   "metadata": {},
   "outputs": [
    {
     "name": "stdout",
     "output_type": "stream",
     "text": [
      "input_file:  ../data/formated_dataset.csv\n",
      "output_file: ../data/max_abs_df.csv\n",
      "CPU times: user 27.9 s, sys: 356 ms, total: 28.2 s\n",
      "Wall time: 29.2 s\n"
     ]
    }
   ],
   "source": [
    "%%time\n",
    "def maximum_absolute_scaling(df):\n",
    "    # copy the dataframe\n",
    "    df_scaled = df.copy()\n",
    "    # apply maximum absolute scaling\n",
    "    for column in df_scaled.columns:\n",
    "        df_scaled[column] = df_scaled[column]  / df_scaled[column].abs().max()\n",
    "    return df_scaled\n",
    "\n",
    "input_file = '../data/formated_dataset.csv'\n",
    "print(\"input_file: \",input_file)\n",
    "df = pd.read_csv(input_file)\n",
    "df = maximum_absolute_scaling(df)\n",
    "df.to_csv(\"../data/max_abs_df.csv\",index=None,header=df.columns.values)\n",
    "print(\"output_file: ../data/max_abs_df.csv\")"
   ]
  },
  {
   "cell_type": "markdown",
   "metadata": {},
   "source": [
    "#### perform quantile transformation "
   ]
  },
  {
   "cell_type": "code",
   "execution_count": 20,
   "metadata": {},
   "outputs": [
    {
     "name": "stdout",
     "output_type": "stream",
     "text": [
      "input_file:  ../data/formated_dataset.csv\n",
      "output: quantile_df\n",
      "CPU times: user 30.1 s, sys: 265 ms, total: 30.4 s\n",
      "Wall time: 30.5 s\n"
     ]
    }
   ],
   "source": [
    "%%time\n",
    "input_file = '../data/formated_dataset.csv'\n",
    "print(\"input_file: \",input_file)\n",
    "df = pd.read_csv(input_file)\n",
    "scaler = preprocessing.QuantileTransformer().fit(df)\n",
    "quantile_df = scaler.transform(df)\n",
    "pd.DataFrame(quantile_df).to_csv(\"../data/quantile_df.csv\",index=None,header=df.columns.values)\n",
    "print(\"output: quantile_df\")\n"
   ]
  },
  {
   "cell_type": "markdown",
   "metadata": {},
   "source": [
    "#### perform standard scaler transformation "
   ]
  },
  {
   "cell_type": "code",
   "execution_count": 22,
   "metadata": {},
   "outputs": [
    {
     "name": "stdout",
     "output_type": "stream",
     "text": [
      "input_file:  ../data/formated_dataset.csv\n",
      "output: scaler_df\n",
      "CPU times: user 27.8 s, sys: 277 ms, total: 28.1 s\n",
      "Wall time: 28.3 s\n"
     ]
    }
   ],
   "source": [
    "%%time\n",
    "input_file = '../data/formated_dataset.csv'\n",
    "print(\"input_file: \",input_file)\n",
    "df = pd.read_csv(input_file)\n",
    "scaler = preprocessing.StandardScaler().fit(df)\n",
    "scaled_df = scaler.transform(df)\n",
    "pd.DataFrame(quantile_df).to_csv(\"../data/scaler_df.csv\",index=None,header=df.columns.values)\n",
    "print(\"output: scaler_df\")\n"
   ]
  },
  {
   "cell_type": "markdown",
   "metadata": {},
   "source": [
    "## Exploring Normalization\n",
    "- Rescaling (min-max normalization)\n",
    "- Standardization (Z-scale normalization)\n",
    "\n"
   ]
  },
  {
   "cell_type": "code",
   "execution_count": 23,
   "metadata": {},
   "outputs": [
    {
     "data": {
      "image/png": "[encoded data removed]",
      "text/plain": [
       "<Figure size 800x400 with 1 Axes>"
      ]
     },
     "metadata": {
      "needs_background": "light"
     },
     "output_type": "display_data"
    }
   ],
   "source": [
    "## density plots for input features\n",
    "dataset_id = 23\n",
    "plt.rcParams['figure.figsize'] = [8, 4]\n",
    "plt.rcParams['figure.dpi'] = 100\n",
    "col_name = df.columns.values[dataset_id]\n",
    "plt.xlabel('Values')\n",
    "plt.ylabel('Count')\n",
    "plt.title(col_name)\n",
    "_ = plt.hist(df[col_name], color = 'blue', edgecolor = 'black', bins = np.arange(-10,100,1),label=col_name )"
   ]
  },
  {
   "cell_type": "code",
   "execution_count": 24,
   "metadata": {},
   "outputs": [
    {
     "data": {
      "image/png": "[encoded data removed]",
      "text/plain": [
       "<Figure size 800x400 with 1 Axes>"
      ]
     },
     "metadata": {
      "needs_background": "light"
     },
     "output_type": "display_data"
    }
   ],
   "source": [
    "\n",
    "\n",
    "plt.rcParams['figure.figsize'] = [8, 4]\n",
    "plt.rcParams['figure.dpi'] = 100\n",
    "col_name = df.columns.values[dataset_id]\n",
    "plt.xlabel('Values')\n",
    "plt.ylabel('Count')\n",
    "plt.title(col_name)\n",
    "_ = plt.hist(scaled_df[dataset_id], color = 'blue', edgecolor = 'black', bins = np.arange(-5,4,0.1),label=col_name )"
   ]
  },
  {
   "cell_type": "code",
   "execution_count": 25,
   "metadata": {},
   "outputs": [
    {
     "data": {
      "image/png": "[encoded data removed]",
      "text/plain": [
       "<Figure size 800x400 with 1 Axes>"
      ]
     },
     "metadata": {
      "needs_background": "light"
     },
     "output_type": "display_data"
    }
   ],
   "source": [
    "plt.rcParams['figure.figsize'] = [8, 4]\n",
    "plt.rcParams['figure.dpi'] = 100\n",
    "col_name = df.columns.values[dataset_id]\n",
    "plt.xlabel('Values')\n",
    "plt.ylabel('Count')\n",
    "plt.title(col_name)\n",
    "_ = plt.hist(quantile_df[dataset_id], color = 'blue', edgecolor = 'black', bins = np.arange(-5,4,0.1),label=col_name )"
   ]
  },
  {
   "cell_type": "markdown",
   "metadata": {},
   "source": [
    "### references"
   ]
  },
  {
   "cell_type": "code",
   "execution_count": null,
   "metadata": {},
   "outputs": [],
   "source": []
  }
 ],
 "metadata": {
  "kernelspec": {
   "display_name": "Python 3",
   "language": "python",
   "name": "python3"
  },
  "language_info": {
   "codemirror_mode": {
    "name": "ipython",
    "version": 3
   },
   "file_extension": ".py",
   "mimetype": "text/x-python",
   "name": "python",
   "nbconvert_exporter": "python",
   "pygments_lexer": "ipython3",
   "version": "3.7.4"
  }
 },
 "nbformat": 4,
 "nbformat_minor": 4
}
